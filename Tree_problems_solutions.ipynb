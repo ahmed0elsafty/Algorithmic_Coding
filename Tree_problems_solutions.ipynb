{
 "cells": [
  {
   "cell_type": "code",
   "execution_count": 1,
   "metadata": {},
   "outputs": [],
   "source": [
    "from DataStructure import TreeNode\n",
    "from Algorithms_Implementations import TreeTraversal"
   ]
  },
  {
   "attachments": {},
   "cell_type": "markdown",
   "metadata": {},
   "source": [
    ">HackerRank Tree: Preorder Traversal"
   ]
  },
  {
   "cell_type": "code",
   "execution_count": 2,
   "metadata": {},
   "outputs": [
    {
     "name": "stdout",
     "output_type": "stream",
     "text": [
      "5\n"
     ]
    }
   ],
   "source": [
    "ttraversal = TreeTraversal()\n",
    "ttraversal.preOrder(TreeNode(5))"
   ]
  },
  {
   "attachments": {},
   "cell_type": "markdown",
   "metadata": {},
   "source": [
    ">HackerRank Tree: Inorder Traversal"
   ]
  },
  {
   "cell_type": "code",
   "execution_count": 3,
   "metadata": {},
   "outputs": [
    {
     "name": "stdout",
     "output_type": "stream",
     "text": [
      "5\n"
     ]
    }
   ],
   "source": [
    "ttraversal = TreeTraversal()\n",
    "ttraversal.inOrder(TreeNode(5))"
   ]
  },
  {
   "attachments": {},
   "cell_type": "markdown",
   "metadata": {},
   "source": [
    ">HackerRank Tree: Postorder Traversal"
   ]
  },
  {
   "cell_type": "code",
   "execution_count": 4,
   "metadata": {},
   "outputs": [
    {
     "name": "stdout",
     "output_type": "stream",
     "text": [
      "5\n"
     ]
    }
   ],
   "source": [
    "ttraversal = TreeTraversal()\n",
    "ttraversal.postOrder(TreeNode(5))"
   ]
  },
  {
   "attachments": {},
   "cell_type": "markdown",
   "metadata": {},
   "source": [
    ">HackerRank Tree: Level Order Traversal"
   ]
  },
  {
   "cell_type": "code",
   "execution_count": 5,
   "metadata": {},
   "outputs": [
    {
     "name": "stdout",
     "output_type": "stream",
     "text": [
      "5 "
     ]
    }
   ],
   "source": [
    "ttraversal = TreeTraversal()\n",
    "ttraversal.levelOrder(TreeNode(5))"
   ]
  },
  {
   "cell_type": "code",
   "execution_count": 6,
   "metadata": {},
   "outputs": [
    {
     "name": "stdout",
     "output_type": "stream",
     "text": [
      "5 "
     ]
    }
   ],
   "source": [
    "ttraversal = TreeTraversal()\n",
    "ttraversal.bfsOrder(TreeNode(5))"
   ]
  },
  {
   "attachments": {},
   "cell_type": "markdown",
   "metadata": {},
   "source": [
    "> LeetCode 94. Binary Tree Inorder Traversal"
   ]
  },
  {
   "cell_type": "code",
   "execution_count": 7,
   "metadata": {},
   "outputs": [],
   "source": [
    "def inorderTraversal(root: TreeNode) -> list[int]:\n",
    "    out = []\n",
    "    def inorder(root:TreeNode):\n",
    "        if root:\n",
    "            inorder(root.left)\n",
    "            out.append(root.value)\n",
    "            inorder(root.right)\n",
    "    inorder(root)\n",
    "    return out"
   ]
  },
  {
   "attachments": {},
   "cell_type": "markdown",
   "metadata": {},
   "source": [
    "> HackerRank Tree: Height of a Binary Tree"
   ]
  },
  {
   "cell_type": "code",
   "execution_count": 8,
   "metadata": {},
   "outputs": [],
   "source": [
    "def height_of_Binary_Tree(root : TreeNode):\n",
    "    if root is None:\n",
    "        return 0\n",
    "    if root.left is None and root.right is None:\n",
    "        return max(\n",
    "            height_of_Binary_Tree(root.left) ,\n",
    "            height_of_Binary_Tree(root.right))\n",
    "    else:\n",
    "        return max(\n",
    "            height_of_Binary_Tree(root.left) ,\n",
    "            height_of_Binary_Tree(root.right)) + 1"
   ]
  },
  {
   "attachments": {},
   "cell_type": "markdown",
   "metadata": {},
   "source": [
    "> LeetCode 100. Same Tree"
   ]
  },
  {
   "cell_type": "code",
   "execution_count": 9,
   "metadata": {},
   "outputs": [],
   "source": [
    "def isSameTree(self, p: TreeNode, q: TreeNode) -> bool:\n",
    "    if not p and not q:\n",
    "        return True\n",
    "    if p and q and p.value == q.value:\n",
    "        return isSameTree(p.left, q.left) and isSameTree(p.right, q.right)"
   ]
  },
  {
   "attachments": {},
   "cell_type": "markdown",
   "metadata": {},
   "source": [
    ">LeetCode 101. Symmetric Tree"
   ]
  },
  {
   "cell_type": "code",
   "execution_count": 10,
   "metadata": {},
   "outputs": [],
   "source": [
    "def isSymmetric( root: TreeNode) -> bool:\n",
    "    def is_sym(lnode : TreeNode, rnode : TreeNode):\n",
    "        if lnode is None and rnode is None:\n",
    "            return True\n",
    "        if lnode and rnode and lnode.value == rnode.value:\n",
    "            return is_sym(lnode.left, rnode.right) and is_sym(lnode.right, rnode.left)\n",
    "        else:\n",
    "            return False\n",
    "    return is_sym(root.left, root.right)"
   ]
  },
  {
   "attachments": {},
   "cell_type": "markdown",
   "metadata": {},
   "source": [
    "> LeetCode 104. Maximum Depth of Binary Tree"
   ]
  },
  {
   "cell_type": "code",
   "execution_count": 11,
   "metadata": {},
   "outputs": [],
   "source": [
    "def maxDepth(root:TreeNode) -> int:\n",
    "    if root is None:\n",
    "        return 0\n",
    "    else:\n",
    "        return max(\n",
    "            maxDepth(root.left), maxDepth(root.right)\n",
    "        ) + 1"
   ]
  },
  {
   "attachments": {},
   "cell_type": "markdown",
   "metadata": {},
   "source": [
    ">LeetCode 226. Invert Binary Tree"
   ]
  },
  {
   "cell_type": "code",
   "execution_count": 12,
   "metadata": {},
   "outputs": [],
   "source": [
    "def invertTree(root: TreeNode) -> TreeNode:\n",
    "    if not root:\n",
    "        return None\n",
    "    root.left, root.right = root.right, root.left\n",
    "    invertTree(root.left)\n",
    "    invertTree(root.right)\n",
    "    return root\n"
   ]
  },
  {
   "attachments": {},
   "cell_type": "markdown",
   "metadata": {},
   "source": [
    ">LeetCode 111. Minimum Depth of Binary Tree"
   ]
  },
  {
   "cell_type": "code",
   "execution_count": 13,
   "metadata": {},
   "outputs": [],
   "source": [
    "def minDepth(root :TreeNode) -> int:\n",
    "    if not root:\n",
    "        return 0\n",
    "    if root.left:\n",
    "        return minDepth(root.right) + 1\n",
    "    elif root.right:\n",
    "        return minDepth(root.left) + 1\n",
    "    else:\n",
    "        return min(\n",
    "            minDepth(root.left) , minDepth(root.right)\n",
    "        ) + 1\n",
    "        "
   ]
  },
  {
   "attachments": {},
   "cell_type": "markdown",
   "metadata": {},
   "source": [
    ">LeetCode 102. Binary Tree Level Order Traversal"
   ]
  },
  {
   "cell_type": "code",
   "execution_count": 14,
   "metadata": {},
   "outputs": [],
   "source": [
    "def levelOrder(root: TreeNode) -> list[list[int]]:\n",
    "    out  = []\n",
    "    if root is None:\n",
    "        return out\n",
    "    else:\n",
    "        q = [root]\n",
    "        while q:\n",
    "            lvl = []\n",
    "            for _ in range(len(q)):\n",
    "                node = q.pop(0)\n",
    "                lvl.append(node.value)\n",
    "                if node.left:\n",
    "                    q.append(root.left)\n",
    "                if node.right:\n",
    "                    q.append(root.right)\n",
    "            out.append(lvl)\n",
    "        return out\n",
    "\n"
   ]
  }
 ],
 "metadata": {
  "kernelspec": {
   "display_name": "base",
   "language": "python",
   "name": "python3"
  },
  "language_info": {
   "codemirror_mode": {
    "name": "ipython",
    "version": 3
   },
   "file_extension": ".py",
   "mimetype": "text/x-python",
   "name": "python",
   "nbconvert_exporter": "python",
   "pygments_lexer": "ipython3",
   "version": "3.9.13"
  },
  "orig_nbformat": 4,
  "vscode": {
   "interpreter": {
    "hash": "2511362d7eaf04f9267976467a4d4f95db9fe8d018187d0f490bf8e1d8c4b042"
   }
  }
 },
 "nbformat": 4,
 "nbformat_minor": 2
}
